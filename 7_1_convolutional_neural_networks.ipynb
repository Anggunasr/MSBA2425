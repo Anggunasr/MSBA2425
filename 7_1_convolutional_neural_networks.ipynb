{
  "nbformat": 4,
  "nbformat_minor": 0,
  "metadata": {
    "colab": {
      "provenance": [],
      "gpuType": "T4",
      "include_colab_link": true
    },
    "kernelspec": {
      "name": "python3",
      "display_name": "Python 3"
    },
    "language_info": {
      "name": "python"
    },
    "accelerator": "GPU"
  },
  "cells": [
    {
      "cell_type": "markdown",
      "metadata": {
        "id": "view-in-github",
        "colab_type": "text"
      },
      "source": [
        "<a href=\"https://colab.research.google.com/github/Anggunasr/MSBA2425/blob/ADA/7_1_convolutional_neural_networks.ipynb\" target=\"_parent\"><img src=\"https://colab.research.google.com/assets/colab-badge.svg\" alt=\"Open In Colab\"/></a>"
      ]
    },
    {
      "cell_type": "markdown",
      "source": [
        "# Convolutional Neural Networks\n",
        "This tutorial will start by walking through a custom-built CNN in PyTorch. We will be working with a chest x-ray set from Kaggle ([here](https://www.kaggle.com/paultimothymooney/chest-xray-pneumonia)) where we are predicting whether a paitent has pneumonia or not.\n",
        "\n",
        "To get the data we need an API key from Kaggle. Set up an account (if you haven't got one already) and then click on your avatar in the top right and \"Account\" from the dropdown menu. Scroll down the page and you'll find a button to \"Create New API Token\". This downloads an API key to your PC which you can upload here."
      ],
      "metadata": {
        "id": "X6oownATtXqZ"
      }
    },
    {
      "cell_type": "code",
      "source": [
        "from google.colab import files\n",
        "files.upload()"
      ],
      "metadata": {
        "id": "LHG_Y_YFFeEF",
        "outputId": "99f1ff62-ccd2-4fe2-c6b0-0236f051bcf2",
        "colab": {
          "base_uri": "https://localhost:8080/",
          "height": 90
        }
      },
      "execution_count": 1,
      "outputs": [
        {
          "output_type": "display_data",
          "data": {
            "text/plain": [
              "<IPython.core.display.HTML object>"
            ],
            "text/html": [
              "\n",
              "     <input type=\"file\" id=\"files-1d22fc0a-f2e4-42b4-ab54-b0c76cbc6335\" name=\"files[]\" multiple disabled\n",
              "        style=\"border:none\" />\n",
              "     <output id=\"result-1d22fc0a-f2e4-42b4-ab54-b0c76cbc6335\">\n",
              "      Upload widget is only available when the cell has been executed in the\n",
              "      current browser session. Please rerun this cell to enable.\n",
              "      </output>\n",
              "      <script>// Copyright 2017 Google LLC\n",
              "//\n",
              "// Licensed under the Apache License, Version 2.0 (the \"License\");\n",
              "// you may not use this file except in compliance with the License.\n",
              "// You may obtain a copy of the License at\n",
              "//\n",
              "//      http://www.apache.org/licenses/LICENSE-2.0\n",
              "//\n",
              "// Unless required by applicable law or agreed to in writing, software\n",
              "// distributed under the License is distributed on an \"AS IS\" BASIS,\n",
              "// WITHOUT WARRANTIES OR CONDITIONS OF ANY KIND, either express or implied.\n",
              "// See the License for the specific language governing permissions and\n",
              "// limitations under the License.\n",
              "\n",
              "/**\n",
              " * @fileoverview Helpers for google.colab Python module.\n",
              " */\n",
              "(function(scope) {\n",
              "function span(text, styleAttributes = {}) {\n",
              "  const element = document.createElement('span');\n",
              "  element.textContent = text;\n",
              "  for (const key of Object.keys(styleAttributes)) {\n",
              "    element.style[key] = styleAttributes[key];\n",
              "  }\n",
              "  return element;\n",
              "}\n",
              "\n",
              "// Max number of bytes which will be uploaded at a time.\n",
              "const MAX_PAYLOAD_SIZE = 100 * 1024;\n",
              "\n",
              "function _uploadFiles(inputId, outputId) {\n",
              "  const steps = uploadFilesStep(inputId, outputId);\n",
              "  const outputElement = document.getElementById(outputId);\n",
              "  // Cache steps on the outputElement to make it available for the next call\n",
              "  // to uploadFilesContinue from Python.\n",
              "  outputElement.steps = steps;\n",
              "\n",
              "  return _uploadFilesContinue(outputId);\n",
              "}\n",
              "\n",
              "// This is roughly an async generator (not supported in the browser yet),\n",
              "// where there are multiple asynchronous steps and the Python side is going\n",
              "// to poll for completion of each step.\n",
              "// This uses a Promise to block the python side on completion of each step,\n",
              "// then passes the result of the previous step as the input to the next step.\n",
              "function _uploadFilesContinue(outputId) {\n",
              "  const outputElement = document.getElementById(outputId);\n",
              "  const steps = outputElement.steps;\n",
              "\n",
              "  const next = steps.next(outputElement.lastPromiseValue);\n",
              "  return Promise.resolve(next.value.promise).then((value) => {\n",
              "    // Cache the last promise value to make it available to the next\n",
              "    // step of the generator.\n",
              "    outputElement.lastPromiseValue = value;\n",
              "    return next.value.response;\n",
              "  });\n",
              "}\n",
              "\n",
              "/**\n",
              " * Generator function which is called between each async step of the upload\n",
              " * process.\n",
              " * @param {string} inputId Element ID of the input file picker element.\n",
              " * @param {string} outputId Element ID of the output display.\n",
              " * @return {!Iterable<!Object>} Iterable of next steps.\n",
              " */\n",
              "function* uploadFilesStep(inputId, outputId) {\n",
              "  const inputElement = document.getElementById(inputId);\n",
              "  inputElement.disabled = false;\n",
              "\n",
              "  const outputElement = document.getElementById(outputId);\n",
              "  outputElement.innerHTML = '';\n",
              "\n",
              "  const pickedPromise = new Promise((resolve) => {\n",
              "    inputElement.addEventListener('change', (e) => {\n",
              "      resolve(e.target.files);\n",
              "    });\n",
              "  });\n",
              "\n",
              "  const cancel = document.createElement('button');\n",
              "  inputElement.parentElement.appendChild(cancel);\n",
              "  cancel.textContent = 'Cancel upload';\n",
              "  const cancelPromise = new Promise((resolve) => {\n",
              "    cancel.onclick = () => {\n",
              "      resolve(null);\n",
              "    };\n",
              "  });\n",
              "\n",
              "  // Wait for the user to pick the files.\n",
              "  const files = yield {\n",
              "    promise: Promise.race([pickedPromise, cancelPromise]),\n",
              "    response: {\n",
              "      action: 'starting',\n",
              "    }\n",
              "  };\n",
              "\n",
              "  cancel.remove();\n",
              "\n",
              "  // Disable the input element since further picks are not allowed.\n",
              "  inputElement.disabled = true;\n",
              "\n",
              "  if (!files) {\n",
              "    return {\n",
              "      response: {\n",
              "        action: 'complete',\n",
              "      }\n",
              "    };\n",
              "  }\n",
              "\n",
              "  for (const file of files) {\n",
              "    const li = document.createElement('li');\n",
              "    li.append(span(file.name, {fontWeight: 'bold'}));\n",
              "    li.append(span(\n",
              "        `(${file.type || 'n/a'}) - ${file.size} bytes, ` +\n",
              "        `last modified: ${\n",
              "            file.lastModifiedDate ? file.lastModifiedDate.toLocaleDateString() :\n",
              "                                    'n/a'} - `));\n",
              "    const percent = span('0% done');\n",
              "    li.appendChild(percent);\n",
              "\n",
              "    outputElement.appendChild(li);\n",
              "\n",
              "    const fileDataPromise = new Promise((resolve) => {\n",
              "      const reader = new FileReader();\n",
              "      reader.onload = (e) => {\n",
              "        resolve(e.target.result);\n",
              "      };\n",
              "      reader.readAsArrayBuffer(file);\n",
              "    });\n",
              "    // Wait for the data to be ready.\n",
              "    let fileData = yield {\n",
              "      promise: fileDataPromise,\n",
              "      response: {\n",
              "        action: 'continue',\n",
              "      }\n",
              "    };\n",
              "\n",
              "    // Use a chunked sending to avoid message size limits. See b/62115660.\n",
              "    let position = 0;\n",
              "    do {\n",
              "      const length = Math.min(fileData.byteLength - position, MAX_PAYLOAD_SIZE);\n",
              "      const chunk = new Uint8Array(fileData, position, length);\n",
              "      position += length;\n",
              "\n",
              "      const base64 = btoa(String.fromCharCode.apply(null, chunk));\n",
              "      yield {\n",
              "        response: {\n",
              "          action: 'append',\n",
              "          file: file.name,\n",
              "          data: base64,\n",
              "        },\n",
              "      };\n",
              "\n",
              "      let percentDone = fileData.byteLength === 0 ?\n",
              "          100 :\n",
              "          Math.round((position / fileData.byteLength) * 100);\n",
              "      percent.textContent = `${percentDone}% done`;\n",
              "\n",
              "    } while (position < fileData.byteLength);\n",
              "  }\n",
              "\n",
              "  // All done.\n",
              "  yield {\n",
              "    response: {\n",
              "      action: 'complete',\n",
              "    }\n",
              "  };\n",
              "}\n",
              "\n",
              "scope.google = scope.google || {};\n",
              "scope.google.colab = scope.google.colab || {};\n",
              "scope.google.colab._files = {\n",
              "  _uploadFiles,\n",
              "  _uploadFilesContinue,\n",
              "};\n",
              "})(self);\n",
              "</script> "
            ]
          },
          "metadata": {}
        },
        {
          "output_type": "stream",
          "name": "stdout",
          "text": [
            "Saving kaggle.json to kaggle.json\n"
          ]
        },
        {
          "output_type": "execute_result",
          "data": {
            "text/plain": [
              "{'kaggle.json': b'{\"username\":\"anggunasr\",\"key\":\"13d6d487de22430d781618afcc2dcd9d\"}'}"
            ]
          },
          "metadata": {},
          "execution_count": 1
        }
      ]
    },
    {
      "cell_type": "markdown",
      "source": [
        "Next we need to move this to a folder called kaggle as this is where Colab will look (Linux commands):"
      ],
      "metadata": {
        "id": "iBOOZx3Kuey-"
      }
    },
    {
      "cell_type": "code",
      "source": [
        "!mkdir -p ~/.kaggle # make dir\n",
        "!cp kaggle.json ~/.kaggle/ #copy the data\n",
        "!chmod 600 /root/.kaggle/kaggle.json # make the folder can be accessed"
      ],
      "metadata": {
        "id": "pU043sJiFjet"
      },
      "execution_count": 2,
      "outputs": []
    },
    {
      "cell_type": "markdown",
      "source": [
        "## Data Extraction\n",
        "Now you can download the data. The following can be used for any Kaggle dataset. When you are on the dataset page click the three vertical dots on the right and select \"Copy API command\". This gives you code that looks like below (but add a \"!\" at the start):"
      ],
      "metadata": {
        "id": "EPsEVPNyuoo4"
      }
    },
    {
      "cell_type": "code",
      "execution_count": 3,
      "metadata": {
        "id": "048YVK6TChZV",
        "outputId": "f7274460-64ef-4bec-8a36-06745d1cb19f",
        "colab": {
          "base_uri": "https://localhost:8080/"
        }
      },
      "outputs": [
        {
          "output_type": "stream",
          "name": "stdout",
          "text": [
            "Dataset URL: https://www.kaggle.com/datasets/paultimothymooney/chest-xray-pneumonia\n",
            "License(s): other\n",
            "Downloading chest-xray-pneumonia.zip to /content\n",
            "100% 2.29G/2.29G [01:43<00:00, 22.8MB/s]\n",
            "100% 2.29G/2.29G [01:43<00:00, 23.7MB/s]\n"
          ]
        }
      ],
      "source": [
        "!kaggle datasets download -d paultimothymooney/chest-xray-pneumonia # downloading the data from kaggle"
      ]
    },
    {
      "cell_type": "markdown",
      "source": [
        "This has added the data as a zip folder. We can unzip it and create a new folder (Linux again):"
      ],
      "metadata": {
        "id": "yddDe7JWvFEY"
      }
    },
    {
      "cell_type": "code",
      "source": [
        "!unzip -q chest-xray-pneumonia.zip -d chest-xray-pneumonia"
      ],
      "metadata": {
        "id": "pf7pLBawF3e0"
      },
      "execution_count": 4,
      "outputs": []
    },
    {
      "cell_type": "markdown",
      "source": [
        "For ease we will create some variables to store the path to the directories:"
      ],
      "metadata": {
        "id": "NSE9XpymvNeS"
      }
    },
    {
      "cell_type": "code",
      "source": [
        "train_dir = \"/content/chest-xray-pneumonia/chest_xray/train\"\n",
        "test_dir = \"/content/chest-xray-pneumonia/chest_xray/test\"\n",
        "val_dir = \"/content/chest-xray-pneumonia/chest_xray/val\""
      ],
      "metadata": {
        "id": "yOQLobhOZsI3"
      },
      "execution_count": 5,
      "outputs": []
    },
    {
      "cell_type": "markdown",
      "source": [
        "## Data Augmentations\n",
        "Now we can add a generator to create augmentations.\n",
        "\n",
        "For test and validation we just want to normalise (we use the standard ImageNet numbers for this). For the training you have some additional choices! Which of the augmentations would be appropriate for our problem? What values should you choose if so? These are ultimately domain questions we need to consider,"
      ],
      "metadata": {
        "id": "xbsVBVhIvSom"
      }
    },
    {
      "cell_type": "code",
      "source": [
        "import torch\n",
        "from torchvision import transforms, datasets\n",
        "from torch.utils.data import DataLoader\n",
        "\n",
        "# Define data transformations\n",
        "train_transform = transforms.Compose([\n",
        "    #transforms.RandomResizedCrop(224), # Randomly crop and resize\n",
        "    #transforms.RandomHorizontalFlip(),  # Example augmentation\n",
        "    #transforms.RandomVerticalFlip(),  # Example augmentation\n",
        "    #transforms.RandomRotation(n),  # Example augmentation change n to max degrees you want to rotate\n",
        "    #transforms.ColorJitter(brightness=0.2, contrast=0.2, saturation=0.2, hue=0.1), # Random color adjustments\n",
        "\n",
        "    # keep these ones in!\n",
        "    transforms.ToTensor(),  # Convert to tensor\n",
        "    transforms.Resize((32, 32)),  # Resize images (adjust size as needed)\n",
        "    transforms.Normalize(mean=[0.485, 0.456, 0.406], std=[0.229, 0.224, 0.225]) # ImageNet normalization\n",
        "])\n",
        "\n",
        "val_transform = transforms.Compose([\n",
        "    transforms.Resize((32, 32)),\n",
        "    transforms.ToTensor(),\n",
        "    transforms.Normalize(mean=[0.485, 0.456, 0.406], std=[0.229, 0.224, 0.225])\n",
        "])\n",
        "\n",
        "test_transform = transforms.Compose([\n",
        "    transforms.Resize((32, 32)),\n",
        "    transforms.ToTensor(),\n",
        "    transforms.Normalize(mean=[0.485, 0.456, 0.406], std=[0.229, 0.224, 0.225])\n",
        "])\n",
        "\n",
        "# Load datasets and apply transfomrations\n",
        "train_dataset = datasets.ImageFolder(root=train_dir, transform=train_transform)\n",
        "val_dataset = datasets.ImageFolder(root=val_dir, transform=val_transform)\n",
        "test_dataset = datasets.ImageFolder(root=test_dir, transform=test_transform)\n",
        "\n",
        "# Create data loaders\n",
        "batch_size = 128  # Adjust batch size as needed (hyperparameter!)\n",
        "train_loader = DataLoader(train_dataset, batch_size=batch_size, shuffle=True, num_workers=2, pin_memory=True)\n",
        "val_loader = DataLoader(val_dataset, batch_size=batch_size, shuffle=False, pin_memory=True)\n",
        "test_loader = DataLoader(test_dataset, batch_size=batch_size, shuffle=False, pin_memory=True)"
      ],
      "metadata": {
        "id": "dFf8B5smp1MU"
      },
      "execution_count": 6,
      "outputs": []
    },
    {
      "cell_type": "markdown",
      "source": [
        "## Convolutional Neural Network\n",
        "Now we can build our model:"
      ],
      "metadata": {
        "id": "8S2rBMlQvpHE"
      }
    },
    {
      "cell_type": "code",
      "source": [
        "import torch\n",
        "import torch.nn as nn\n",
        "import torch.nn.functional as F\n",
        "\n",
        "class PneumoniaCNN(nn.Module):\n",
        "    def __init__(self):\n",
        "        super(PneumoniaCNN, self).__init__()\n",
        "        self.conv1 = nn.Conv2d(3, 16, kernel_size=3) # conv layer with 16 3x3 filters, 3 because we use RGB, the total 3x3 is based on the user, could be better or worse, need to be tried\n",
        "        self.bn1 = nn.BatchNorm2d(16)\n",
        "        self.pool1 = nn.MaxPool2d(kernel_size=2, stride=2, padding=0)  # maxpool to 2x2 filters, pad with o\n",
        "        self.conv2 = nn.Conv2d(16, 16, kernel_size=3) # conv layer with 16 3x3 filters -- 16 in input is from the previous result which is 16\n",
        "        self.bn2 = nn.BatchNorm2d(16)\n",
        "        self.pool2 = nn.MaxPool2d(kernel_size=2, stride=2, padding=0)  # maxpool to 2x2 filters, pad with o\n",
        "        self.flatten = nn.Flatten() # flatten layer\n",
        "        self.fc1 = nn.Linear(576, 24) # linear layer with 24 neurons\n",
        "        self.dropout = nn.Dropout(0.25)\n",
        "        self.fc2 = nn.Linear(24, 1) # binary classification so 1x neuron\n",
        "\n",
        "    def forward(self, x):\n",
        "        x = F.relu(self.conv1(x)) # convolution with ReLU\n",
        "        x = self.bn1(x)\n",
        "        x = self.pool1(x)\n",
        "        x = F.relu(self.conv2(x))\n",
        "        x = self.bn2(x)\n",
        "        x = self.pool2(x)\n",
        "        x = self.flatten(x) # Use flatten layer\n",
        "        x = F.relu(self.fc1(x)) # linear layer with ReLU\n",
        "        x = self.dropout(x)\n",
        "        x = torch.sigmoid(self.fc2(x)) # Sigmoid for binary classification\n",
        "        return x\n",
        "\n",
        "cnn = PneumoniaCNN()\n",
        "cnn"
      ],
      "metadata": {
        "colab": {
          "base_uri": "https://localhost:8080/"
        },
        "id": "jT9g_eoUq07y",
        "outputId": "e5786b89-b9c0-4aa4-a385-dcf04d1986b4"
      },
      "execution_count": 7,
      "outputs": [
        {
          "output_type": "execute_result",
          "data": {
            "text/plain": [
              "PneumoniaCNN(\n",
              "  (conv1): Conv2d(3, 16, kernel_size=(3, 3), stride=(1, 1))\n",
              "  (bn1): BatchNorm2d(16, eps=1e-05, momentum=0.1, affine=True, track_running_stats=True)\n",
              "  (pool1): MaxPool2d(kernel_size=2, stride=2, padding=0, dilation=1, ceil_mode=False)\n",
              "  (conv2): Conv2d(16, 16, kernel_size=(3, 3), stride=(1, 1))\n",
              "  (bn2): BatchNorm2d(16, eps=1e-05, momentum=0.1, affine=True, track_running_stats=True)\n",
              "  (pool2): MaxPool2d(kernel_size=2, stride=2, padding=0, dilation=1, ceil_mode=False)\n",
              "  (flatten): Flatten(start_dim=1, end_dim=-1)\n",
              "  (fc1): Linear(in_features=576, out_features=24, bias=True)\n",
              "  (dropout): Dropout(p=0.25, inplace=False)\n",
              "  (fc2): Linear(in_features=24, out_features=1, bias=True)\n",
              ")"
            ]
          },
          "metadata": {},
          "execution_count": 7
        }
      ]
    },
    {
      "cell_type": "markdown",
      "source": [
        "To complete our model let's specify the loss function and optimiser:"
      ],
      "metadata": {
        "id": "NS36RAtXbamM"
      }
    },
    {
      "cell_type": "code",
      "source": [
        "# Define loss function and optimizer\n",
        "import torch.optim as optim\n",
        "\n",
        "criterion = nn.BCELoss() # Binary Cross-Entropy Loss for binary classification\n",
        "optimiser = optim.Adam(cnn.parameters(), lr=0.001, weight_decay=0.0005) # Adam optimizer the decay is used because each epoch will be less learning\n",
        "# we add a weight decay parameter to reduce the learning rate each epoch"
      ],
      "metadata": {
        "id": "X4ZbqKGsK3yb"
      },
      "execution_count": 8,
      "outputs": []
    },
    {
      "cell_type": "markdown",
      "source": [
        "Let's see how many parameters this is:"
      ],
      "metadata": {
        "id": "P8Lmr1pVr5uS"
      }
    },
    {
      "cell_type": "code",
      "source": [
        "# Move model to device\n",
        "from torchsummary import summary\n",
        "\n",
        "# Move data to GPU to get summary\n",
        "device = torch.device(\"cuda\" if torch.cuda.is_available() else \"cpu\")\n",
        "cnn = cnn.to(device)\n",
        "\n",
        "summary(cnn, (3, 32, 32))"
      ],
      "metadata": {
        "colab": {
          "base_uri": "https://localhost:8080/"
        },
        "id": "_3-C4ULMr_em",
        "outputId": "d76fb454-8aad-4d7a-ea52-5a8be55af908"
      },
      "execution_count": 9,
      "outputs": [
        {
          "output_type": "stream",
          "name": "stdout",
          "text": [
            "----------------------------------------------------------------\n",
            "        Layer (type)               Output Shape         Param #\n",
            "================================================================\n",
            "            Conv2d-1           [-1, 16, 30, 30]             448\n",
            "       BatchNorm2d-2           [-1, 16, 30, 30]              32\n",
            "         MaxPool2d-3           [-1, 16, 15, 15]               0\n",
            "            Conv2d-4           [-1, 16, 13, 13]           2,320\n",
            "       BatchNorm2d-5           [-1, 16, 13, 13]              32\n",
            "         MaxPool2d-6             [-1, 16, 6, 6]               0\n",
            "           Flatten-7                  [-1, 576]               0\n",
            "            Linear-8                   [-1, 24]          13,848\n",
            "           Dropout-9                   [-1, 24]               0\n",
            "           Linear-10                    [-1, 1]              25\n",
            "================================================================\n",
            "Total params: 16,705\n",
            "Trainable params: 16,705\n",
            "Non-trainable params: 0\n",
            "----------------------------------------------------------------\n",
            "Input size (MB): 0.01\n",
            "Forward/backward pass size (MB): 0.30\n",
            "Params size (MB): 0.06\n",
            "Estimated Total Size (MB): 0.37\n",
            "----------------------------------------------------------------\n"
          ]
        }
      ]
    },
    {
      "cell_type": "markdown",
      "source": [
        "~17,000 parameters to learn! We better get busy:"
      ],
      "metadata": {
        "id": "Agm_F6Ievs3u"
      }
    },
    {
      "cell_type": "code",
      "source": [
        "# Early stopping parameters\n",
        "patience = 5 # how many times we accept no improvement in val performance before early stopping\n",
        "best_val_loss = float('inf') # keep track of the best loss value\n",
        "epochs_no_improve = 0 # start the count at 0\n",
        "\n",
        "# empty lists to store losses for visualisation\n",
        "train_losses = []\n",
        "val_losses = []\n",
        "\n",
        "# Training loop\n",
        "num_epochs = 5  # Arbitrarily high number - early stopping will end before this\n",
        "\n",
        "device = torch.device(\"cuda\" if torch.cuda.is_available() else \"cpu\")\n",
        "\n",
        "for epoch in range(num_epochs):\n",
        "    cnn.train()\n",
        "    running_loss = 0.0\n",
        "    for images, labels in train_loader:\n",
        "        # add images and label in batch to the GPU\n",
        "        images = images.to(device)\n",
        "        labels = labels.to(device).float().unsqueeze(1)  # Convert labels to float and add dimension\n",
        "        cnn = cnn.to(device) # Pass model as well\n",
        "\n",
        "        # print to check model is using GPU\n",
        "        #print(f\"Is model in GPU during loop : {next(cnn.parameters()).is_cuda}\")\n",
        "\n",
        "        optimiser.zero_grad() # reset the optimiser\n",
        "\n",
        "        # run the images through the model\n",
        "        outputs = cnn(images)\n",
        "        loss = criterion(outputs, labels) # calculate loss\n",
        "        loss.backward() # backpropogate\n",
        "        optimiser.step() # update parameters\n",
        "        running_loss += loss.item() # keep track of loss for visualisation\n",
        "\n",
        "    # store losses for visualisation\n",
        "    train_losses.append(running_loss/len(train_loader)) # average loss\n",
        "\n",
        "    # Validation\n",
        "    cnn.eval()\n",
        "    val_loss = 0.0\n",
        "    all_preds = [] # holder for predictions as 0 or 1\n",
        "    all_labels = [] # compare with labels\n",
        "    with torch.no_grad(): # not update/backpropogation\n",
        "      for images, labels in val_loader:\n",
        "          # add images and label in batch to the GPU\n",
        "          images = images.to(device)\n",
        "          labels = labels.to(device).float().unsqueeze(1)\n",
        "          cnn = cnn.to(device) # Pass model as well\n",
        "\n",
        "          # run the images through the model\n",
        "          outputs = cnn(images)\n",
        "          loss = criterion(outputs, labels) # calculate loss\n",
        "          val_loss += loss.item() # keep track of loss for visualisation\n",
        "\n",
        "    # store losses and recall for visualisation\n",
        "    val_losses.append(val_loss/len(val_loader)) # average loss\n",
        "\n",
        "    # Early stopping\n",
        "    if val_loss < best_val_loss: # is this better than previous record\n",
        "        best_val_loss = val_loss # if so set as new best\n",
        "        epochs_no_improve = 0 # make the no improve counter zero again\n",
        "    else:\n",
        "        epochs_no_improve += 1 # otherwise increase the count by one\n",
        "\n",
        "    train_loss_rnd = round(running_loss / len(train_loader), 4)\n",
        "    val_loss_rnd = round(val_loss / len(val_loader), 4)\n",
        "\n",
        "    print(f\"Epoch [{epoch+1}/{num_epochs}], Training Loss: {train_loss_rnd}, Validation Loss: {val_loss_rnd}\")\n",
        "\n",
        "\n",
        "    if epochs_no_improve == patience: # if epochs without improvement is at the patience level\n",
        "        print(\"Early stopping triggered.\")\n",
        "        break # end the training\n"
      ],
      "metadata": {
        "colab": {
          "base_uri": "https://localhost:8080/"
        },
        "id": "bRu41LfNtyEs",
        "outputId": "04ac696d-f3e6-47b9-bc04-adb8a896346f"
      },
      "execution_count": 12,
      "outputs": [
        {
          "output_type": "stream",
          "name": "stdout",
          "text": [
            "Epoch [1/5], Training Loss: 0.0998, Validation Loss: 0.7347\n",
            "Epoch [2/5], Training Loss: 0.0804, Validation Loss: 0.2444\n",
            "Epoch [3/5], Training Loss: 0.0658, Validation Loss: 0.4043\n",
            "Epoch [4/5], Training Loss: 0.0608, Validation Loss: 0.2382\n",
            "Epoch [5/5], Training Loss: 0.0624, Validation Loss: 0.2217\n"
          ]
        }
      ]
    },
    {
      "cell_type": "markdown",
      "source": [
        "## Results\n",
        "Let's visualise the results:"
      ],
      "metadata": {
        "id": "4Stqkqz8vyaT"
      }
    },
    {
      "cell_type": "code",
      "source": [
        "import matplotlib.pyplot as plt\n",
        "\n",
        "plt.figure(figsize=(10, 5))\n",
        "plt.plot(train_losses, label='Training Loss')\n",
        "plt.plot(val_losses, label='Validation Loss')\n",
        "plt.xlabel('Epoch')\n",
        "plt.ylabel('Loss')\n",
        "plt.title('Training and Validation Loss')\n",
        "plt.legend()\n",
        "plt.grid(True)\n",
        "plt.show()"
      ],
      "metadata": {
        "colab": {
          "base_uri": "https://localhost:8080/",
          "height": 487
        },
        "id": "JCedkXjKcJJI",
        "outputId": "5b65f6f9-6178-4e0a-cb51-f1b2eea35834"
      },
      "execution_count": 13,
      "outputs": [
        {
          "output_type": "display_data",
          "data": {
            "text/plain": [
              "<Figure size 1000x500 with 1 Axes>"
            ],
            "image/png": "[encoded data removed]"
          },
          "metadata": {}
        }
      ]
    },
    {
      "cell_type": "markdown",
      "source": [],
      "metadata": {
        "id": "OUQLlrtPThIs"
      }
    },
    {
      "cell_type": "markdown",
      "source": [
        "Overfitting in training & validation loss:\n",
        "if the training is having good graph in the running epoch but jumping around. However, if the validation jumping around but still shows similar direction as the training (no continuous decrease then continous increase). Also, it might be because to number of validation set is \"that\" low"
      ],
      "metadata": {
        "id": "p0HtBWn6S2e4"
      }
    },
    {
      "cell_type": "markdown",
      "source": [
        "We can see loss on the training set has steadily improved. On the validation set its a bit more \"bouncey\" but then that's not a big set of images. Let's see how we do on test:"
      ],
      "metadata": {
        "id": "d3PkH6Mxv12T"
      }
    },
    {
      "cell_type": "code",
      "source": [
        "# Evaluation on the test set\n",
        "from sklearn.metrics import recall_score\n",
        "\n",
        "cnn.eval()\n",
        "test_loss = 0.0\n",
        "correct_predictions = 0\n",
        "total_samples = 0\n",
        "\n",
        "with torch.no_grad():\n",
        "    for images, labels in test_loader:\n",
        "        images = images.to(device)\n",
        "        labels = labels.to(device).float().unsqueeze(1)\n",
        "        outputs = cnn(images)\n",
        "        loss = criterion(outputs, labels)\n",
        "        test_loss += loss.item()\n",
        "\n",
        "        predicted_labels = (outputs > 0.5).float()  # Convert probabilities to binary predictions\n",
        "        correct_predictions += (predicted_labels == labels).sum().item()\n",
        "        total_samples += labels.size(0)\n",
        "\n",
        "test_loss_rnd = round(test_loss / len(test_loader), 4)\n",
        "test_recall = round(recall_score(labels.cpu(), predicted_labels.cpu()), 4)\n",
        "\n",
        "print(f\"Test Loss: {test_loss_rnd}\")\n",
        "print(f\"Test Recall: {test_recall}\")"
      ],
      "metadata": {
        "colab": {
          "base_uri": "https://localhost:8080/"
        },
        "id": "Fv-jJ8sJcRBx",
        "outputId": "b6224d06-bf6a-49d9-bc9e-62ebc431cdc0"
      },
      "execution_count": 14,
      "outputs": [
        {
          "output_type": "stream",
          "name": "stdout",
          "text": [
            "Test Loss: 0.5972\n",
            "Test Recall: 0.9821\n"
          ]
        }
      ]
    },
    {
      "cell_type": "markdown",
      "source": [
        "100% recall and relatively small loss (cross entropy). Our model seems to do pretty well ... but, would it be better if we tried augmentations?"
      ],
      "metadata": {
        "id": "UXoMUScAwBdy"
      }
    }
  ]
}